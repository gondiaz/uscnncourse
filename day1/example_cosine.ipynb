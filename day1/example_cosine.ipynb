{
 "cells": [
  {
   "cell_type": "markdown",
   "metadata": {},
   "source": [
    "# Calculating cos(x) with a neural network"
   ]
  },
  {
   "cell_type": "code",
   "execution_count": 1,
   "metadata": {},
   "outputs": [
    {
     "name": "stderr",
     "output_type": "stream",
     "text": [
      "Using TensorFlow backend.\n"
     ]
    }
   ],
   "source": [
    "from keras.models import Sequential\n",
    "from keras.layers import Dense, Activation\n",
    "from keras.optimizers import SGD\n",
    "\n",
    "\n",
    "import math\n",
    "import matplotlib.pyplot as plt\n",
    "import numpy as np\n",
    "import random as rd"
   ]
  },
  {
   "cell_type": "markdown",
   "metadata": {},
   "source": [
    "# Event Generation: y = cos(x)\n",
    "Generate some number of test and training events"
   ]
  },
  {
   "cell_type": "code",
   "execution_count": 2,
   "metadata": {},
   "outputs": [
    {
     "name": "stdout",
     "output_type": "stream",
     "text": [
      "-- Event 0 of 11000 ...\n",
      "-- Event 1100 of 11000 ...\n",
      "-- Event 2200 of 11000 ...\n",
      "-- Event 3300 of 11000 ...\n",
      "-- Event 4400 of 11000 ...\n",
      "-- Event 5500 of 11000 ...\n",
      "-- Event 6600 of 11000 ...\n",
      "-- Event 7700 of 11000 ...\n",
      "-- Event 8800 of 11000 ...\n",
      "-- Event 9900 of 11000 ...\n"
     ]
    }
   ],
   "source": [
    "# Number of events to generate.\n",
    "Nevts_train = 10000\n",
    "Nevts_test = 1000\n",
    "\n",
    "# Set up the training sets.\n",
    "x_train = np.zeros([Nevts_train,1]); x_test = np.zeros([Nevts_test,1])\n",
    "y_train = np.zeros([Nevts_train,1]); y_test = np.zeros([Nevts_test,1])\n",
    "\n",
    "# Generate y = cos(x) for x in [0,2pi).\n",
    "Nevts = Nevts_train + Nevts_test\n",
    "for nn in range(Nevts):\n",
    "\n",
    "    if(nn % int(Nevts/10) == 0):\n",
    "        print(\"-- Event {0} of {1} ...\".format(nn,Nevts))\n",
    "\n",
    "    # Generate angle and cosine.\n",
    "    th0 = rd.random()*2*math.pi\n",
    "    cth0 = math.cos(th0)\n",
    "    \n",
    "    # Write the information to the datasets.\n",
    "    if(nn >= Nevts_train):\n",
    "        x_test[nn-Nevts_train][0] = th0/(2.*math.pi)\n",
    "        y_test[nn-Nevts_train][0] = (1 + cth0)/2.\n",
    "    else:\n",
    "        x_train[nn][0] = th0/(2.*math.pi)\n",
    "        y_train[nn][0] = (1 + cth0)/2.\n",
    "        "
   ]
  },
  {
   "cell_type": "markdown",
   "metadata": {},
   "source": [
    "# Keras-based NN\n",
    "Now build a NN and run the training step using Keras"
   ]
  },
  {
   "cell_type": "code",
   "execution_count": 3,
   "metadata": {},
   "outputs": [
    {
     "name": "stderr",
     "output_type": "stream",
     "text": [
      "WARNING: Logging before flag parsing goes to stderr.\n",
      "W0723 17:16:22.138481 4356060608 deprecation_wrapper.py:119] From /Users/jrenner/miniconda/envs/IC-3.7-2018-11-14/lib/python3.7/site-packages/keras/backend/tensorflow_backend.py:74: The name tf.get_default_graph is deprecated. Please use tf.compat.v1.get_default_graph instead.\n",
      "\n",
      "W0723 17:16:22.151786 4356060608 deprecation_wrapper.py:119] From /Users/jrenner/miniconda/envs/IC-3.7-2018-11-14/lib/python3.7/site-packages/keras/backend/tensorflow_backend.py:517: The name tf.placeholder is deprecated. Please use tf.compat.v1.placeholder instead.\n",
      "\n",
      "W0723 17:16:22.154498 4356060608 deprecation_wrapper.py:119] From /Users/jrenner/miniconda/envs/IC-3.7-2018-11-14/lib/python3.7/site-packages/keras/backend/tensorflow_backend.py:4138: The name tf.random_uniform is deprecated. Please use tf.random.uniform instead.\n",
      "\n",
      "W0723 17:16:22.194949 4356060608 deprecation_wrapper.py:119] From /Users/jrenner/miniconda/envs/IC-3.7-2018-11-14/lib/python3.7/site-packages/keras/optimizers.py:790: The name tf.train.Optimizer is deprecated. Please use tf.compat.v1.train.Optimizer instead.\n",
      "\n"
     ]
    },
    {
     "name": "stdout",
     "output_type": "stream",
     "text": [
      "_________________________________________________________________\n",
      "Layer (type)                 Output Shape              Param #   \n",
      "=================================================================\n",
      "dense_1 (Dense)              (None, 1024)              2048      \n",
      "_________________________________________________________________\n",
      "activation_1 (Activation)    (None, 1024)              0         \n",
      "_________________________________________________________________\n",
      "dense_2 (Dense)              (None, 1)                 1025      \n",
      "_________________________________________________________________\n",
      "activation_2 (Activation)    (None, 1)                 0         \n",
      "=================================================================\n",
      "Total params: 3,073\n",
      "Trainable params: 3,073\n",
      "Non-trainable params: 0\n",
      "_________________________________________________________________\n"
     ]
    }
   ],
   "source": [
    "model = Sequential()\n",
    "model.add(Dense(units=1024, input_dim=1))\n",
    "model.add(Activation(\"relu\"))\n",
    "model.add(Dense(units=1))\n",
    "model.add(Activation(\"sigmoid\"))\n",
    "model.compile(loss='mse', optimizer=SGD(lr=0.1, momentum=0.9, nesterov=True))\n",
    "model.summary()"
   ]
  },
  {
   "cell_type": "code",
   "execution_count": 4,
   "metadata": {},
   "outputs": [
    {
     "name": "stderr",
     "output_type": "stream",
     "text": [
      "W0723 17:16:22.456151 4356060608 deprecation_wrapper.py:119] From /Users/jrenner/miniconda/envs/IC-3.7-2018-11-14/lib/python3.7/site-packages/keras/backend/tensorflow_backend.py:986: The name tf.assign_add is deprecated. Please use tf.compat.v1.assign_add instead.\n",
      "\n",
      "W0723 17:16:22.477372 4356060608 deprecation_wrapper.py:119] From /Users/jrenner/miniconda/envs/IC-3.7-2018-11-14/lib/python3.7/site-packages/keras/backend/tensorflow_backend.py:973: The name tf.assign is deprecated. Please use tf.compat.v1.assign instead.\n",
      "\n"
     ]
    },
    {
     "name": "stdout",
     "output_type": "stream",
     "text": [
      "Epoch 1/25\n",
      "10000/10000 [==============================] - 0s 34us/step - loss: 0.0904\n",
      "Epoch 2/25\n",
      "10000/10000 [==============================] - 0s 23us/step - loss: 0.0130\n",
      "Epoch 3/25\n",
      "10000/10000 [==============================] - 0s 23us/step - loss: 0.0020\n",
      "Epoch 4/25\n",
      "10000/10000 [==============================] - 0s 23us/step - loss: 8.2496e-04\n",
      "Epoch 5/25\n",
      "10000/10000 [==============================] - 0s 25us/step - loss: 5.8089e-04\n",
      "Epoch 6/25\n",
      "10000/10000 [==============================] - 0s 23us/step - loss: 5.0047e-04\n",
      "Epoch 7/25\n",
      "10000/10000 [==============================] - 0s 23us/step - loss: 4.6363e-04\n",
      "Epoch 8/25\n",
      "10000/10000 [==============================] - 0s 24us/step - loss: 4.4283e-04\n",
      "Epoch 9/25\n",
      "10000/10000 [==============================] - 0s 24us/step - loss: 4.2923e-04\n",
      "Epoch 10/25\n",
      "10000/10000 [==============================] - 0s 25us/step - loss: 4.2100e-04\n",
      "Epoch 11/25\n",
      "10000/10000 [==============================] - 0s 33us/step - loss: 4.1156e-04\n",
      "Epoch 12/25\n",
      "10000/10000 [==============================] - 0s 31us/step - loss: 4.0736e-04\n",
      "Epoch 13/25\n",
      "10000/10000 [==============================] - 0s 29us/step - loss: 4.0252e-04\n",
      "Epoch 14/25\n",
      "10000/10000 [==============================] - 0s 30us/step - loss: 3.9804e-04\n",
      "Epoch 15/25\n",
      "10000/10000 [==============================] - 0s 26us/step - loss: 3.9614e-04\n",
      "Epoch 16/25\n",
      "10000/10000 [==============================] - 0s 24us/step - loss: 3.9430e-04\n",
      "Epoch 17/25\n",
      "10000/10000 [==============================] - 0s 24us/step - loss: 3.9127e-04\n",
      "Epoch 18/25\n",
      "10000/10000 [==============================] - 0s 23us/step - loss: 3.8813e-04\n",
      "Epoch 19/25\n",
      "10000/10000 [==============================] - 0s 24us/step - loss: 3.8959e-04\n",
      "Epoch 20/25\n",
      "10000/10000 [==============================] - 0s 23us/step - loss: 3.8774e-04\n",
      "Epoch 21/25\n",
      "10000/10000 [==============================] - 0s 23us/step - loss: 3.8588e-04\n",
      "Epoch 22/25\n",
      "10000/10000 [==============================] - 0s 30us/step - loss: 3.8471e-04\n",
      "Epoch 23/25\n",
      "10000/10000 [==============================] - 0s 30us/step - loss: 3.8438e-04\n",
      "Epoch 24/25\n",
      "10000/10000 [==============================] - 0s 32us/step - loss: 3.8500e-04\n",
      "Epoch 25/25\n",
      "10000/10000 [==============================] - 0s 24us/step - loss: 3.8304e-04\n"
     ]
    }
   ],
   "source": [
    "model.fit(x_train, y_train, epochs=25, batch_size=32);"
   ]
  },
  {
   "cell_type": "code",
   "execution_count": 5,
   "metadata": {},
   "outputs": [
    {
     "name": "stdout",
     "output_type": "stream",
     "text": [
      "1000/1000 [==============================] - 0s 33us/step\n",
      "\n",
      "Mean loss is 0.00036361000640317795\n"
     ]
    }
   ],
   "source": [
    "# Evaluate the model and produce a list of predictions for the test data.\n",
    "loss_and_metrics = model.evaluate(x_test, y_test, batch_size=32);\n",
    "y_pred = model.predict(x_test, batch_size=32, verbose=0)\n",
    "print(\"\\nMean loss is {0}\".format(loss_and_metrics))"
   ]
  },
  {
   "cell_type": "code",
   "execution_count": 6,
   "metadata": {},
   "outputs": [
    {
     "data": {
      "image/png": "[encoded data removed]",
      "text/plain": [
       "<Figure size 432x288 with 1 Axes>"
      ]
     },
     "metadata": {
      "needs_background": "light"
     },
     "output_type": "display_data"
    }
   ],
   "source": [
    "# Plot the actual (blue) vs. predicted (red) results\n",
    "plt.scatter(2*x_test*math.pi,2*y_test-1,marker='.',color='blue',label='y = cos(x)')\n",
    "plt.scatter(2*x_test*math.pi,2*y_pred-1,marker='.',color='red',label='NN Prediction')\n",
    "plt.xlabel(\"x\"); plt.ylabel(\"y\")\n",
    "plt.legend()\n",
    "plt.show()"
   ]
  },
  {
   "cell_type": "code",
   "execution_count": null,
   "metadata": {},
   "outputs": [],
   "source": []
  }
 ],
 "metadata": {
  "kernelspec": {
   "display_name": "Python 3",
   "language": "python",
   "name": "python3"
  },
  "language_info": {
   "codemirror_mode": {
    "name": "ipython",
    "version": 3
   },
   "file_extension": ".py",
   "mimetype": "text/x-python",
   "name": "python",
   "nbconvert_exporter": "python",
   "pygments_lexer": "ipython3",
   "version": "3.7.2"
  }
 },
 "nbformat": 4,
 "nbformat_minor": 1
}
